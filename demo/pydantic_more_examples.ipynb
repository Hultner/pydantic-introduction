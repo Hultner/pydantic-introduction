{
 "cells": [
  {
   "cell_type": "code",
   "execution_count": 6,
   "metadata": {},
   "outputs": [
    {
     "name": "stdout",
     "output_type": "stream",
     "text": [
      "\"Foo\" object has no field \"patched_attribute\"\n"
     ]
    }
   ],
   "source": [
    "from pydantic import BaseModel\n",
    "\n",
    "# Based on questions from Gergo Jedlicska\n",
    "class Foo(BaseModel):\n",
    "    bar: str\n",
    "\n",
    "try:\n",
    "    foo = Foo(bar=\"bar\")\n",
    "\n",
    "    # this is fine, I want the class to stay mutable\n",
    "    foo.bar = \"a higher bar\"\n",
    "\n",
    "    # this is not ok. It patches the attribute at runtime\n",
    "    foo.patched_attribute = 123\n",
    "except ValueError as err:\n",
    "    print(err)"
   ]
  },
  {
   "cell_type": "code",
   "execution_count": null,
   "metadata": {},
   "outputs": [],
   "source": []
  }
 ],
 "metadata": {
  "kernelspec": {
   "display_name": "Python 3",
   "language": "python",
   "name": "python3"
  },
  "language_info": {
   "codemirror_mode": {
    "name": "ipython",
    "version": 3
   },
   "file_extension": ".py",
   "mimetype": "text/x-python",
   "name": "python",
   "nbconvert_exporter": "python",
   "pygments_lexer": "ipython3",
   "version": "3.8.0"
  }
 },
 "nbformat": 4,
 "nbformat_minor": 4
}
